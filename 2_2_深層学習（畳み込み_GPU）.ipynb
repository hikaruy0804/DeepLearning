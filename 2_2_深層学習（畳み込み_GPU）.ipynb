{
  "nbformat": 4,
  "nbformat_minor": 0,
  "metadata": {
    "kernelspec": {
      "display_name": "Python 3",
      "name": "python3"
    },
    "language_info": {
      "codemirror_mode": {
        "name": "ipython",
        "version": 3
      },
      "file_extension": ".py",
      "mimetype": "text/x-python",
      "name": "python",
      "nbconvert_exporter": "python",
      "pygments_lexer": "ipython3",
      "version": "3.6.8"
    },
    "colab": {
      "provenance": [],
      "gpuType": "T4",
      "include_colab_link": true
    },
    "accelerator": "GPU"
  },
  "cells": [
    {
      "cell_type": "markdown",
      "metadata": {
        "id": "view-in-github",
        "colab_type": "text"
      },
      "source": [
        "<a href=\"https://colab.research.google.com/github/hikaruy0804/DeepLearning/blob/main/2_2_%E6%B7%B1%E5%B1%A4%E5%AD%A6%E7%BF%92%EF%BC%88%E7%95%B3%E3%81%BF%E8%BE%BC%E3%81%BF_GPU%EF%BC%89.ipynb\" target=\"_parent\"><img src=\"https://colab.research.google.com/assets/colab-badge.svg\" alt=\"Open In Colab\"/></a>"
      ]
    },
    {
      "cell_type": "markdown",
      "source": [
        "[0] 畳み込み層をGPU上で学習する方法\n",
        "===============\n",
        "## GPUに変更\n",
        "ランタイム→ランタイムのタイプを変更→ハードウェアアクセラレータ→T4 GPU→保存\n",
        "テンソルをGPUに転送するのと同じように、ニューラルネットワークをGPUに転送します。\n",
        "\n",
        "<br>\n",
        "\n",
        "**画像分類器の訓練**"
      ],
      "metadata": {
        "id": "rjrqysob0zw7"
      }
    },
    {
      "cell_type": "code",
      "metadata": {
        "id": "GD2RSL67HHZ6"
      },
      "source": [
        "import torch\n",
        "\n",
        "device = torch.device(\"cuda:0\" if torch.cuda.is_available() else \"cpu\")\n",
        "\n",
        "# GPU搭載のCUDA環境を前提としており、その場合はcuda:0と出力されるはずです\n",
        "print(device)"
      ],
      "execution_count": null,
      "outputs": []
    },
    {
      "cell_type": "markdown",
      "metadata": {
        "id": "nq2gkoWnXTW9"
      },
      "source": [
        "2-2.深層学習（畳み込み-GPU）\n",
        "\n",
        "以下の手順に従って実施します：\n",
        "\n",
        "1. ``torchvision``でCIFAR10の訓練データとテストデータの読み込みと正規化\n",
        "2. 畳み込みニューラルネットワークの定義\n",
        "3. 損失関数の定義\n",
        "4. 訓練データを用いたモデルの訓練\n",
        "5. テストデータでモデルをテスト\n"
      ]
    },
    {
      "cell_type": "markdown",
      "metadata": {
        "id": "huCv2L-4gjLb"
      },
      "source": [
        "[1] CIFAR10の読み込みと正規化\n",
        "========"
      ]
    },
    {
      "cell_type": "code",
      "metadata": {
        "id": "7KyRSm9IHHZA"
      },
      "source": [
        "%matplotlib inline"
      ],
      "execution_count": null,
      "outputs": []
    },
    {
      "cell_type": "code",
      "metadata": {
        "id": "rkznwatQHHZE"
      },
      "source": [
        "import torchvision\n",
        "import torchvision.transforms as transforms"
      ],
      "execution_count": null,
      "outputs": []
    },
    {
      "cell_type": "code",
      "metadata": {
        "id": "RM_zWw4EHHZL"
      },
      "source": [
        "transform = transforms.Compose(\n",
        "    [transforms.ToTensor(),\n",
        "     transforms.Normalize((0.5, 0.5, 0.5), (0.5, 0.5, 0.5))])\n",
        "\n",
        "trainset = torchvision.datasets.CIFAR10(root='./data', train=True,\n",
        "                                        download=True, transform=transform)\n",
        "trainloader = torch.utils.data.DataLoader(trainset, batch_size=4,\n",
        "                                          shuffle=True, num_workers=2)\n",
        "\n",
        "testset = torchvision.datasets.CIFAR10(root='./data', train=False,\n",
        "                                       download=True, transform=transform)\n",
        "testloader = torch.utils.data.DataLoader(testset, batch_size=4,\n",
        "                                         shuffle=False, num_workers=2)\n",
        "\n",
        "classes = ('plane', 'car', 'bird', 'cat',\n",
        "           'deer', 'dog', 'frog', 'horse', 'ship', 'truck')"
      ],
      "execution_count": null,
      "outputs": []
    },
    {
      "cell_type": "code",
      "metadata": {
        "id": "9EhUUVDNHHZQ"
      },
      "source": [
        "import matplotlib.pyplot as plt\n",
        "import numpy as np\n",
        "\n",
        "# 画像の表示関数\n",
        "\n",
        "\n",
        "def imshow(img):\n",
        "    img = img / 2 + 0.5     # 正規化を戻す\n",
        "    npimg = img.numpy()\n",
        "    plt.imshow(np.transpose(npimg, (1, 2, 0)))\n",
        "    plt.show()\n",
        "\n",
        "\n",
        "# 適当な訓練セットの画像を取得\n",
        "dataiter = iter(trainloader)\n",
        "images, labels = next(dataiter)\n",
        "\n",
        "# 画像の表示\n",
        "imshow(torchvision.utils.make_grid(images))\n",
        "# ラベルの表示\n",
        "print(' '.join('%5s' % classes[labels[j]] for j in range(4)))"
      ],
      "execution_count": null,
      "outputs": []
    },
    {
      "cell_type": "markdown",
      "metadata": {
        "id": "uHRX5jM2HHZU"
      },
      "source": [
        "[2] 畳み込みニューラルネットワークの定義\n",
        "=======\n"
      ]
    },
    {
      "cell_type": "code",
      "metadata": {
        "id": "wJkPAGJfHHZU"
      },
      "source": [
        "import torch.nn as nn\n",
        "import torch.nn.functional as F\n",
        "\n",
        "class Net(nn.Module):\n",
        "    def __init__(self):\n",
        "        super(Net, self).__init__()\n",
        "        self.conv1 = nn.Conv2d(3, 6, 5) #入力チャンネル、出力チャンネル、カーネルサイズ\n",
        "        self.pool = nn.MaxPool2d(2, 2) #プーリングサイズ\n",
        "        self.conv2 = nn.Conv2d(6, 16, 5) #入力チャンネル、出力チャンネル、カーネルサイズ\n",
        "        self.fc1 = nn.Linear(16 * 5 * 5, 128)\n",
        "        self.fc2 = nn.Linear(128, 64)\n",
        "        self.fc3 = nn.Linear(64, 10)\n",
        "\n",
        "    def forward(self, x):\n",
        "        x = self.pool(F.relu(self.conv1(x)))\n",
        "        x = self.pool(F.relu(self.conv2(x)))\n",
        "        x = x.view(-1, 16 * 5 * 5)\n",
        "        x = F.relu(self.fc1(x))\n",
        "        x = F.relu(self.fc2(x))\n",
        "        x = self.fc3(x)\n",
        "        return x\n",
        "\n",
        "net = Net()"
      ],
      "execution_count": null,
      "outputs": []
    },
    {
      "cell_type": "markdown",
      "source": [
        "全モジュールのパラメータとバッファをCUDAテンソルに変換します。"
      ],
      "metadata": {
        "id": "pEASDAih1fnt"
      }
    },
    {
      "cell_type": "code",
      "metadata": {
        "id": "S3zj4IOW99xU"
      },
      "source": [
        "net.to(device)\n",
        "# inputs, labels = data[0].to(device), data[1].to(device)"
      ],
      "execution_count": null,
      "outputs": []
    },
    {
      "cell_type": "markdown",
      "metadata": {
        "id": "aK_anaIgHHZY"
      },
      "source": [
        "[3] 損失関数とオプティマイザの定義\n",
        "=======\n"
      ]
    },
    {
      "cell_type": "code",
      "metadata": {
        "id": "Vb0z6HFxHHZZ"
      },
      "source": [
        "import torch.optim as optim\n",
        "\n",
        "criterion = nn.CrossEntropyLoss()\n",
        "optimizer = optim.SGD(net.parameters(), lr=0.001, momentum=0.9)"
      ],
      "execution_count": null,
      "outputs": []
    },
    {
      "cell_type": "markdown",
      "metadata": {
        "id": "XpVaxOXeHHZc"
      },
      "source": [
        "[4] ネットワークの訓練\n",
        "=======\n",
        "モデルのサイズが小さいのでCPUで実行した際と比較して、大幅な高速化にはならないかと思います。"
      ]
    },
    {
      "cell_type": "code",
      "metadata": {
        "id": "iDEaUwhOHHZd"
      },
      "source": [
        "# 日本語訳注：GPU版で訓練を実行した場合\n",
        "\n",
        "# optimizerを再定義（netがGPU上に移動したので）\n",
        "optimizer = optim.SGD(net.parameters(), lr=0.001, momentum=0.9)\n",
        "\n",
        "for epoch in range(2):  # データセットを何巡繰り返すか\n",
        "\n",
        "    running_loss = 0.0\n",
        "    for i, data in enumerate(trainloader, 0):\n",
        "\n",
        "        # 入力を取得します; 変数dataはリスト[inputs, labels]です\n",
        "        inputs, labels = data[0].to(device), data[1].to(device)\n",
        "\n",
        "        # 勾配を0に初期化\n",
        "        optimizer.zero_grad()\n",
        "\n",
        "        # 順伝搬、逆伝搬、パラメータ更新\n",
        "        outputs = net(inputs)\n",
        "        loss = criterion(outputs, labels)\n",
        "        loss.backward()\n",
        "        optimizer.step()\n",
        "\n",
        "        # 統計情報を出力\n",
        "        running_loss += loss.item()\n",
        "        if i % 2000 == 1999:    #  2000ミニバッチごとに出力\n",
        "            print('[%d, %5d] loss: %.3f' %\n",
        "                  (epoch + 1, i + 1, running_loss / 2000))\n",
        "            running_loss = 0.0\n",
        "\n",
        "print('Finished Training')"
      ],
      "execution_count": null,
      "outputs": []
    },
    {
      "cell_type": "markdown",
      "source": [
        "# 演習\n",
        "## 試してみよう。\n",
        "\n",
        "- モデルの層を深くする\n",
        "- 以下のコードをモデル構築のコードと入れ替えて実行する\n",
        "\n",
        "## 調べてみよう。\n",
        "- [Google Colaboratoryのスペック](https://zenn.dev/kun432/scraps/ff58490b5133ce)\n"
      ],
      "metadata": {
        "id": "lDMYECwsoKYA"
      }
    },
    {
      "cell_type": "markdown",
      "source": [
        "\n",
        "\n",
        "---\n",
        "\n"
      ],
      "metadata": {
        "id": "mZuCbmv3Kw9a"
      }
    },
    {
      "cell_type": "markdown",
      "source": [
        "\n",
        "### Dropout（ドロップアウト）\n",
        "\n",
        "ドロップアウトはニューラルネットワークの正則化手法の一つで、モデルの過学習を防ぐために使用されます。\n",
        "\n",
        "#### 過学習とは？\n",
        "過学習（オーバーフィッティング）は、モデルが訓練データにはうまく適応するものの、新しいデータ（テストデータ）にはうまく適応できない状態を指します。これは、モデルが訓練データのノイズや重要でないパターンまで学習してしまうことが原因です。\n",
        "\n",
        "#### ドロップアウトの効果\n",
        "1. **アンサンブル効果**: 学習中にランダムにニューロンを「無効化」します。これにより、ネットワークは複数の異なるモデルの平均のように機能し、一般化（汎化）能力が向上します。\n",
        "2. **特徴の共適応抑制**: ドロップアウトは各ニューロンが他のニューロンに過度に依存しないようにします。これにより、ネットワークはより堅牢な特徴を学習し、一般化能力を向上させます。\n",
        "\n",
        "#### ドロップアウトの使い方\n",
        "1. **ネットワーク構造の定義時**: ネットワークを定義する際に、`nn.Dropout` 層を追加します。これは通常、全結合層や畳み込み層の後に配置されます。`nn.Dropout` の引数 `p` はドロップアウトする確率を表し、一般的には `0.5` が使われますが、タスクやネットワーク構造に応じて調整することがあります。\n",
        "2. **順伝播関数内**: 順伝播（forward）関数内でドロップアウト層を適用します。通常は活性化関数（例：ReLU）の後に適用されます。\n",
        "\n",
        "#### 注意点\n",
        "ドロップアウトは訓練時にのみ使用され、評価（テスト）時には使用されません。PyTorchでは、`model.train()` と `model.eval()` を使ってモデルのモードを切り替え、ドロップアウト層を制御します。`model.eval()` が呼び出されるとドロップアウト層は無効になります。\n",
        "\n",
        "---"
      ],
      "metadata": {
        "id": "_pwUhUpK5cl2"
      }
    },
    {
      "cell_type": "code",
      "source": [
        "import torch.nn as nn\n",
        "import torch.nn.functional as F\n",
        "\n",
        "class Net(nn.Module):\n",
        "    def __init__(self):\n",
        "        super(Net, self).__init__()\n",
        "        self.conv1 = nn.Conv2d(3, 6, 5)\n",
        "        self.pool = nn.MaxPool2d(2, 2)\n",
        "        self.conv2 = nn.Conv2d(6, 16, 5)\n",
        "        self.fc1 = nn.Linear(16 * 5 * 5, 128)\n",
        "        self.dropout1 = nn.Dropout(p=0.5)\n",
        "        self.fc2 = nn.Linear(128, 248)\n",
        "        self.dropout2 = nn.Dropout(p=0.5)\n",
        "        self.fc3 = nn.Linear(248, 128)\n",
        "        self.dropout3 = nn.Dropout(p=0.5)\n",
        "        self.fc4 = nn.Linear(128, 64)\n",
        "        self.dropout4 = nn.Dropout(p=0.5)\n",
        "        self.fc5 = nn.Linear(64, 10)\n",
        "\n",
        "    def forward(self, x):\n",
        "        x = self.pool(F.relu(self.conv1(x)))\n",
        "        x = self.pool(F.relu(self.conv2(x)))\n",
        "        x = x.view(-1, 16 * 5 * 5)\n",
        "        x = F.relu(self.fc1(x))\n",
        "        x = self.dropout1(x)\n",
        "        x = F.relu(self.fc2(x))\n",
        "        x = self.dropout2(x)\n",
        "        x = F.relu(self.fc3(x))\n",
        "        x = self.dropout3(x)\n",
        "        x = F.relu(self.fc4(x))\n",
        "        x = self.dropout4(x)\n",
        "        x = self.fc5(x)\n",
        "        return x\n",
        "\n",
        "net = Net()"
      ],
      "metadata": {
        "id": "ivvVp51P4qNQ"
      },
      "execution_count": null,
      "outputs": []
    },
    {
      "cell_type": "markdown",
      "source": [
        "\n",
        "### L2正則化\n",
        "\n",
        "L2正則化は、モデルの過学習を抑制するために用いられる一般的な手法です。過学習は、モデルが訓練データに対して過度に最適化され、新しいデータに対してうまく機能しない状態を指します。L2正則化は、この問題に対処するためにモデルのパラメータに制約を加える方法です。\n",
        "\n",
        "#### 概要\n",
        "- **原理**: L2正則化では、モデルの重みの二乗和（L2ノルム）に比例するペナルティを損失関数に追加します。これにより、重みが大きくなりすぎることを防ぎ、モデルが訓練データのノイズに過敏に反応するのを抑制します。\n",
        "- **効果**: 重みが大きくなりすぎると、モデルが訓練データの特定の特徴やノイズに対して過剰に反応する可能性があります。L2正則化を使用することで、モデルの重みが小さく保たれ、より汎化されたモデルを作ることができます。\n",
        "\n",
        "#### PyTorchでの実装\n",
        "PyTorchでは、オプティマイザの設定を通じてL2正則化を簡単に適用することができます。例えば、`torch.optim` パッケージ内のオプティマイザに `weight_decay` パラメータを設定することで、L2正則化をモデルに適用することができます。\n",
        "\n"
      ],
      "metadata": {
        "id": "7N7Ti64k5pQZ"
      }
    },
    {
      "cell_type": "code",
      "source": [
        "import torch\n",
        "import torch.nn as nn\n",
        "import torch.optim as optim\n",
        "\n",
        "class Net(nn.Module):\n",
        "    def __init__(self):\n",
        "        super(Net, self).__init__()\n",
        "        self.conv1 = nn.Conv2d(3, 6, 5)\n",
        "        self.pool = nn.MaxPool2d(2, 2)\n",
        "        self.conv2 = nn.Conv2d(6, 16, 5)\n",
        "        self.fc1 = nn.Linear(16 * 5 * 5, 120)\n",
        "        self.fc2 = nn.Linear(120, 84)\n",
        "        self.fc3 = nn.Linear(84, 10)\n",
        "\n",
        "    def forward(self, x):\n",
        "        x = self.pool(F.relu(self.conv1(x)))\n",
        "        x = self.pool(F.relu(self.conv2(x)))\n",
        "        x = x.view(-1, 16 * 5 * 5)\n",
        "        x = F.relu(self.fc1(x))\n",
        "        x = F.relu(self.fc2(x))\n",
        "        x = self.fc3(x)\n",
        "        return x\n",
        "\n",
        "net = Net()\n",
        "\n",
        "\n",
        "\n",
        "criterion = nn.CrossEntropyLoss()\n",
        "# L2正則化の適用（weight_decayパラメータで指定）\n",
        "optimizer = optim.SGD(net.parameters(), lr=0.001, momentum=0.9, weight_decay=0.0001)\n"
      ],
      "metadata": {
        "id": "vLGisMVb5dQV"
      },
      "execution_count": null,
      "outputs": []
    }
  ]
}